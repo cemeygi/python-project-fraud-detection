{
 "cells": [
  {
   "cell_type": "code",
   "execution_count": null,
   "id": "b35fac98-4b50-4a49-b472-76e8ec05f72b",
   "metadata": {},
   "outputs": [],
   "source": [
    "## Importing Libraries\n",
    "import pandas as pd\n",
    "import numpy as np\n",
    "import os\n"
   ]
  },
  {
   "cell_type": "code",
   "execution_count": 1,
   "id": "bdf6cbb5-4b41-470e-8354-03e88f340028",
   "metadata": {},
   "outputs": [
    {
     "name": "stdout",
     "output_type": "stream",
     "text": [
      "Method 1 Result: 100\n",
      "Method 2 Result: 100\n",
      "Method 3 Result: 100\n"
     ]
    }
   ],
   "source": [
    "## Three different ways to reach a result of 100 by adding or subtracting numeric variables\n",
    "\n",
    "# Method 1: Addition\n",
    "result1 = 10 + 90\n",
    "print(\"Method 1 Result:\", result1)\n",
    "\n",
    "# Method 2: Subtraction\n",
    "result2 = 200 - 100\n",
    "print(\"Method 2 Result:\", result2)\n",
    "\n",
    "# Method 3: Combination of addition and subtraction\n",
    "result3 = 130 + 70 - 100\n",
    "print(\"Method 3 Result:\", result3)\n"
   ]
  },
  {
   "cell_type": "code",
   "execution_count": 2,
   "id": "ff5a765e-8348-4718-b262-ce65a5ecb88d",
   "metadata": {},
   "outputs": [
    {
     "name": "stdout",
     "output_type": "stream",
     "text": [
      "Division Result: 5.0\n"
     ]
    }
   ],
   "source": [
    "## Two floating-point variables and divide them by each other.\n",
    "\n",
    "num1 = 25.5\n",
    "num2 = 5.1\n",
    "\n",
    "result = num1 / num2\n",
    "\n",
    "print(\"Division Result:\", result)\n"
   ]
  },
  {
   "cell_type": "code",
   "execution_count": 3,
   "id": "c4d01c75-1eb5-4d9c-b661-4116eec81f48",
   "metadata": {},
   "outputs": [
    {
     "name": "stdout",
     "output_type": "stream",
     "text": [
      "Constructed Word: Python\n"
     ]
    }
   ],
   "source": [
    "## Construct a short word made of separate strings\n",
    "\n",
    "part1 = \"Py\"\n",
    "part2 = \"thon\"\n",
    "\n",
    "word = part1 + part2\n",
    "\n",
    "print(\"Constructed Word:\", word)\n"
   ]
  },
  {
   "cell_type": "code",
   "execution_count": 7,
   "id": "a319f2ad-00f8-4774-830c-62f83ef19fa1",
   "metadata": {},
   "outputs": [
    {
     "name": "stdout",
     "output_type": "stream",
     "text": [
      "Sentence 1: My name is Cem. I live in Germany.\n",
      "Sentence 2: Python makes data analytics easy!\n"
     ]
    }
   ],
   "source": [
    "# Constructing two short sentences by concatenating separate strings\n",
    "\n",
    "# Sentence 1\n",
    "part1 = \"My name is Cem.\"\n",
    "part2 = \" I live in Germany.\"\n",
    "sentence1 = part1 + part2\n",
    "\n",
    "# Sentence 2\n",
    "part3 = \"Python\"\n",
    "part4 = \" makes data analytics easy!\"\n",
    "sentence2 = part3 + part4\n",
    "\n",
    "# Printing the results\n",
    "print(\"Sentence 1:\", sentence1)\n",
    "print(\"Sentence 2:\", sentence2)\n"
   ]
  },
  {
   "cell_type": "code",
   "execution_count": null,
   "id": "1b936e71-2aa9-48c4-b63c-bc800d69518b",
   "metadata": {},
   "outputs": [],
   "source": []
  }
 ],
 "metadata": {
  "kernelspec": {
   "display_name": "Python 3 (ipykernel)",
   "language": "python",
   "name": "python3"
  },
  "language_info": {
   "codemirror_mode": {
    "name": "ipython",
    "version": 3
   },
   "file_extension": ".py",
   "mimetype": "text/x-python",
   "name": "python",
   "nbconvert_exporter": "python",
   "pygments_lexer": "ipython3",
   "version": "3.13.2"
  }
 },
 "nbformat": 4,
 "nbformat_minor": 5
}
