{
 "cells": [
  {
   "cell_type": "code",
   "execution_count": 12,
   "id": "6a4226b1-20a5-48e1-98ca-6ccd9c7f2324",
   "metadata": {},
   "outputs": [
    {
     "name": "stdout",
     "output_type": "stream",
     "text": [
      "<class 'pandas.core.frame.DataFrame'>\n",
      "RangeIndex: 206209 entries, 0 to 206208\n",
      "Data columns (total 10 columns):\n",
      " #   Column        Non-Null Count   Dtype \n",
      "---  ------        --------------   ----- \n",
      " 0   user_id       206209 non-null  int64 \n",
      " 1   First Name    194950 non-null  object\n",
      " 2   Surnam        206209 non-null  object\n",
      " 3   Gender        206209 non-null  object\n",
      " 4   STATE         206209 non-null  object\n",
      " 5   Age           206209 non-null  int64 \n",
      " 6   date_joined   206209 non-null  object\n",
      " 7   n_dependants  206209 non-null  int64 \n",
      " 8   fam_status    206209 non-null  object\n",
      " 9   income        206209 non-null  int64 \n",
      "dtypes: int64(4), object(6)\n",
      "memory usage: 15.7+ MB\n"
     ]
    },
    {
     "data": {
      "text/plain": [
       "user_id             0\n",
       "First Name      11259\n",
       "Surnam              0\n",
       "Gender              0\n",
       "STATE               0\n",
       "Age                 0\n",
       "date_joined         0\n",
       "n_dependants        0\n",
       "fam_status          0\n",
       "income              0\n",
       "dtype: int64"
      ]
     },
     "execution_count": 12,
     "metadata": {},
     "output_type": "execute_result"
    }
   ],
   "source": [
    "import pandas as pd\n",
    "import numpy as np\n",
    "import os\n",
    "\n",
    "\n",
    "# Load customer data\n",
    "customers = pd.read_csv('/Users/cem/Desktop/Data Immersion/Achievement 4_Project/Data/customers.csv')\n",
    "\n",
    "# Load the main merged dataset\n",
    "ords_prods_merge = pd.read_pickle('/Users/cem/Desktop/Data Immersion/Achievement 4_Project/Data/Prepared Data/ords_prods_merged_labeled.pkl')\n",
    "\n",
    "\n",
    "customers.head()\n",
    "customers.info()\n",
    "customers.describe()\n",
    "customers.isnull().sum()"
   ]
  },
  {
   "cell_type": "code",
   "execution_count": 13,
   "id": "9e40385d-6690-47dd-91de-22b70d709947",
   "metadata": {},
   "outputs": [
    {
     "name": "stdout",
     "output_type": "stream",
     "text": [
      "Index(['user_id', 'gender', 'state', 'age', 'num_dependents', 'marital_status',\n",
      "       'income'],\n",
      "      dtype='object')\n"
     ]
    }
   ],
   "source": [
    "customers.rename(columns={\n",
    "    'First Name': 'first_name',\n",
    "    'Surnam': 'last_name',  # assuming 'Surnam' is a typo of 'Surname'\n",
    "    'Gender': 'gender',\n",
    "    'STATE': 'state',\n",
    "    'Age': 'age',\n",
    "    'date_joined': 'date_joined',\n",
    "    'n_dependants': 'num_dependents',\n",
    "    'fam_status': 'marital_status',\n",
    "    'income': 'income'\n",
    "}, inplace=True)\n",
    "\n",
    "\n",
    "customers.drop(columns=['first_name', 'last_name', 'date_joined'], inplace=True)\n",
    "\n",
    "print(customers.columns)"
   ]
  },
  {
   "cell_type": "markdown",
   "id": "350bab95-16a2-4321-86de-256a655e5881",
   "metadata": {},
   "source": [
    "## Wrangling Customer Data\n",
    "\n",
    "I decided to clean the customer dataset by:\n",
    "- Renaming inconsistent or unclear columns (First Name, Surnam, STATE, etc.) to standard lowercase names.\n",
    "- Dropping unnecessary columns that I think don’t add value to the analysis (first_name, last_name, date_joined).\n",
    "- Ensuring consistent naming conventions (snake_case) across the entire project.\n",
    "\n",
    "This prepares the customer data for merging with the transaction-level dataset.\n"
   ]
  },
  {
   "cell_type": "code",
   "execution_count": 14,
   "id": "0a27b1bf-ae20-4e7a-8b4a-4a295f236a81",
   "metadata": {},
   "outputs": [
    {
     "data": {
      "text/plain": [
       "user_id           0\n",
       "gender            0\n",
       "state             0\n",
       "age               0\n",
       "num_dependents    0\n",
       "marital_status    0\n",
       "income            0\n",
       "dtype: int64"
      ]
     },
     "execution_count": 14,
     "metadata": {},
     "output_type": "execute_result"
    }
   ],
   "source": [
    "## Q5\n",
    "customers.isnull().sum()\n"
   ]
  },
  {
   "cell_type": "code",
   "execution_count": 15,
   "id": "94900252-22c2-49aa-bc05-07c65efb252a",
   "metadata": {},
   "outputs": [
    {
     "data": {
      "text/plain": [
       "np.int64(0)"
      ]
     },
     "execution_count": 15,
     "metadata": {},
     "output_type": "execute_result"
    }
   ],
   "source": [
    "## checking for duplicates\n",
    "customers.duplicated().sum()\n"
   ]
  },
  {
   "cell_type": "code",
   "execution_count": 16,
   "id": "d712c1e1-6a82-4487-b82d-1884db76002c",
   "metadata": {},
   "outputs": [
    {
     "data": {
      "text/plain": [
       "user_id            int64\n",
       "gender            object\n",
       "state             object\n",
       "age                int64\n",
       "num_dependents     int64\n",
       "marital_status    object\n",
       "income             int64\n",
       "dtype: object"
      ]
     },
     "execution_count": 16,
     "metadata": {},
     "output_type": "execute_result"
    }
   ],
   "source": [
    "customers = customers.drop_duplicates()\n",
    "customers.dtypes\n"
   ]
  },
  {
   "cell_type": "code",
   "execution_count": 17,
   "id": "a65f2d0f-2268-4a5f-978f-5c3dc2dba93f",
   "metadata": {},
   "outputs": [
    {
     "name": "stdout",
     "output_type": "stream",
     "text": [
      "gender\n",
      "Male      104067\n",
      "Female    102142\n",
      "Name: count, dtype: int64\n",
      "marital_status\n",
      "married                             144906\n",
      "single                               33962\n",
      "divorced/widowed                     17640\n",
      "living with parents and siblings      9701\n",
      "Name: count, dtype: int64\n",
      "state\n",
      "Florida                 4044\n",
      "Colorado                4044\n",
      "Illinois                4044\n",
      "Alabama                 4044\n",
      "District of Columbia    4044\n",
      "Hawaii                  4044\n",
      "Arizona                 4044\n",
      "Connecticut             4044\n",
      "California              4044\n",
      "Indiana                 4044\n",
      "Arkansas                4044\n",
      "Alaska                  4044\n",
      "Delaware                4044\n",
      "Iowa                    4044\n",
      "Idaho                   4044\n",
      "Georgia                 4044\n",
      "Wyoming                 4043\n",
      "Mississippi             4043\n",
      "Oklahoma                4043\n",
      "Utah                    4043\n",
      "New Hampshire           4043\n",
      "Kentucky                4043\n",
      "Maryland                4043\n",
      "Rhode Island            4043\n",
      "Massachusetts           4043\n",
      "Michigan                4043\n",
      "New Jersey              4043\n",
      "Kansas                  4043\n",
      "South Dakota            4043\n",
      "Minnesota               4043\n",
      "Tennessee               4043\n",
      "New York                4043\n",
      "Washington              4043\n",
      "Louisiana               4043\n",
      "Montana                 4043\n",
      "North Dakota            4043\n",
      "Wisconsin               4043\n",
      "Nebraska                4043\n",
      "Vermont                 4043\n",
      "Nevada                  4043\n",
      "Maine                   4043\n",
      "North Carolina          4043\n",
      "West Virginia           4043\n",
      "Virginia                4043\n",
      "Oregon                  4043\n",
      "New Mexico              4043\n",
      "Texas                   4043\n",
      "Pennsylvania            4043\n",
      "Ohio                    4043\n",
      "South Carolina          4043\n",
      "Missouri                4043\n",
      "Name: count, dtype: int64\n"
     ]
    }
   ],
   "source": [
    "print(customers['gender'].value_counts())\n",
    "print(customers['marital_status'].value_counts())\n",
    "print(customers['state'].value_counts())\n"
   ]
  },
  {
   "cell_type": "markdown",
   "id": "f9594ab8-d075-4b6a-ad14-f77ae63e6cf6",
   "metadata": {},
   "source": [
    "## Data Quality Checks on Customer Data\n",
    "\n",
    "I checked the customers dataset for:\n",
    "- **Missing values** using `.isnull().sum()`\n",
    "- **Duplicate rows** using `.duplicated().sum()`\n",
    "- **Correct data types** using `.dtypes`\n",
    "- **Inconsistent categorical entries** in `gender`, `state`, and `marital_status`\n",
    "\n",
    "All issues were addressed to ensure the data is clean and ready for merging.\n"
   ]
  },
  {
   "cell_type": "code",
   "execution_count": 18,
   "id": "b6824c35-5fa8-44cb-8c30-f99bcfbab266",
   "metadata": {},
   "outputs": [
    {
     "name": "stdout",
     "output_type": "stream",
     "text": [
      "int64\n",
      "int64\n"
     ]
    }
   ],
   "source": [
    "## Q6: Checking the dtypes\n",
    "print(ords_prods_merge['user_id'].dtype)\n",
    "print(customers['user_id'].dtype)\n"
   ]
  },
  {
   "cell_type": "code",
   "execution_count": 19,
   "id": "8fd6b872-76ca-47c2-b9d3-89431b218911",
   "metadata": {},
   "outputs": [
    {
     "data": {
      "text/html": [
       "<div>\n",
       "<style scoped>\n",
       "    .dataframe tbody tr th:only-of-type {\n",
       "        vertical-align: middle;\n",
       "    }\n",
       "\n",
       "    .dataframe tbody tr th {\n",
       "        vertical-align: top;\n",
       "    }\n",
       "\n",
       "    .dataframe thead th {\n",
       "        text-align: right;\n",
       "    }\n",
       "</style>\n",
       "<table border=\"1\" class=\"dataframe\">\n",
       "  <thead>\n",
       "    <tr style=\"text-align: right;\">\n",
       "      <th></th>\n",
       "      <th>user_id</th>\n",
       "      <th>gender</th>\n",
       "      <th>age</th>\n",
       "      <th>income</th>\n",
       "    </tr>\n",
       "  </thead>\n",
       "  <tbody>\n",
       "    <tr>\n",
       "      <th>11780905</th>\n",
       "      <td>74570</td>\n",
       "      <td>Male</td>\n",
       "      <td>57</td>\n",
       "      <td>125083</td>\n",
       "    </tr>\n",
       "    <tr>\n",
       "      <th>14705658</th>\n",
       "      <td>93101</td>\n",
       "      <td>Male</td>\n",
       "      <td>62</td>\n",
       "      <td>126907</td>\n",
       "    </tr>\n",
       "    <tr>\n",
       "      <th>26492706</th>\n",
       "      <td>168446</td>\n",
       "      <td>Male</td>\n",
       "      <td>44</td>\n",
       "      <td>145092</td>\n",
       "    </tr>\n",
       "    <tr>\n",
       "      <th>14023620</th>\n",
       "      <td>88797</td>\n",
       "      <td>Male</td>\n",
       "      <td>56</td>\n",
       "      <td>109013</td>\n",
       "    </tr>\n",
       "    <tr>\n",
       "      <th>19138114</th>\n",
       "      <td>121180</td>\n",
       "      <td>Male</td>\n",
       "      <td>41</td>\n",
       "      <td>159032</td>\n",
       "    </tr>\n",
       "  </tbody>\n",
       "</table>\n",
       "</div>"
      ],
      "text/plain": [
       "          user_id gender  age  income\n",
       "11780905    74570   Male   57  125083\n",
       "14705658    93101   Male   62  126907\n",
       "26492706   168446   Male   44  145092\n",
       "14023620    88797   Male   56  109013\n",
       "19138114   121180   Male   41  159032"
      ]
     },
     "execution_count": 19,
     "metadata": {},
     "output_type": "execute_result"
    }
   ],
   "source": [
    "## Merging two dataframes\n",
    "ords_prods_merged_final = pd.merge(ords_prods_merge, customers, on='user_id', how='left')\n",
    "\n",
    "ords_prods_merged_final.head()\n",
    "ords_prods_merged_final.shape\n",
    "ords_prods_merged_final[['user_id', 'gender', 'age', 'income']].sample(5)\n"
   ]
  },
  {
   "cell_type": "code",
   "execution_count": null,
   "id": "bf0879a4-1678-41d2-8997-5bd8c2053f88",
   "metadata": {},
   "outputs": [],
   "source": [
    "## Exporting dataset as pickle\n",
    "\n",
    "output_path = '/Users/cem/Desktop/Data Immersion/Achievement 4_Project/Data/Prepared Data/ords_prods_merged_final.pkl'\n",
    "\n",
    "ords_prods_merged_final.to_pickle(output_path)\n"
   ]
  },
  {
   "cell_type": "code",
   "execution_count": null,
   "id": "d8007fcf-792d-4ba5-803e-86e3dec36bde",
   "metadata": {},
   "outputs": [],
   "source": []
  }
 ],
 "metadata": {
  "kernelspec": {
   "display_name": "Python 3 (ipykernel)",
   "language": "python",
   "name": "python3"
  },
  "language_info": {
   "codemirror_mode": {
    "name": "ipython",
    "version": 3
   },
   "file_extension": ".py",
   "mimetype": "text/x-python",
   "name": "python",
   "nbconvert_exporter": "python",
   "pygments_lexer": "ipython3",
   "version": "3.13.2"
  }
 },
 "nbformat": 4,
 "nbformat_minor": 5
}
