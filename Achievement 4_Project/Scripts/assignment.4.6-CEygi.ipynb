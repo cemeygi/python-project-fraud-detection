{
 "cells": [
  {
   "cell_type": "code",
   "execution_count": 2,
   "id": "3c3ff2ad-6880-4e15-b92d-c557335d948d",
   "metadata": {},
   "outputs": [
    {
     "name": "stdout",
     "output_type": "stream",
     "text": [
      "(32434489, 10)\n"
     ]
    }
   ],
   "source": [
    "import pandas as pd\n",
    "\n",
    "# Load the prepared orders dataframe\n",
    "df_ords = pd.read_csv('/Users/cem/Desktop/Data Immersion/Achievement 4_Project/Data/Prepared Data/orders_checked.csv')\n",
    "\n",
    "\n",
    "# Load the orders_products_prior dataframe\n",
    "orders_products_prior = pd.read_csv('/Users/cem/Desktop/Data Immersion/Achievement 4_Project/Data/orders_products_prior.csv')\n",
    "\n",
    "# Merge the dataframes on 'order_id'\n",
    "df_merged = pd.merge(df_ords, orders_products_prior, on='order_id', how='inner')\n",
    "\n",
    "print(df_merged.shape)"
   ]
  },
  {
   "cell_type": "code",
   "execution_count": 3,
   "id": "34f5b44f-d5c4-4b96-9ecd-778f03812f7e",
   "metadata": {},
   "outputs": [
    {
     "name": "stdout",
     "output_type": "stream",
     "text": [
      "   order_id  user_id eval_set  order_number  order_dow  order_hour_of_day  \\\n",
      "0   2539329        1    prior             1          2                  8   \n",
      "1   2539329        1    prior             1          2                  8   \n",
      "2   2539329        1    prior             1          2                  8   \n",
      "3   2539329        1    prior             1          2                  8   \n",
      "4   2539329        1    prior             1          2                  8   \n",
      "\n",
      "   days_since_prior_order  product_id  add_to_cart_order  reordered  \n",
      "0                     0.0         196                  1          0  \n",
      "1                     0.0       14084                  2          0  \n",
      "2                     0.0       12427                  3          0  \n",
      "3                     0.0       26088                  4          0  \n",
      "4                     0.0       26405                  5          0  \n"
     ]
    }
   ],
   "source": [
    "print(df_merged.head())"
   ]
  },
  {
   "cell_type": "code",
   "execution_count": 5,
   "id": "e5e040ab-4426-4dfd-97bb-f591dd0fe630",
   "metadata": {},
   "outputs": [],
   "source": [
    "df_merged.to_csv('/Users/cem/Desktop/Data Immersion/Achievement 4_Project/Data/Prepared Data/df_merged.csv', index=False)\n"
   ]
  },
  {
   "cell_type": "code",
   "execution_count": 6,
   "id": "711f61eb-ccd9-42a4-badf-2163fb6945e1",
   "metadata": {},
   "outputs": [],
   "source": [
    "file_path = '/Users/cem/Desktop/Data Immersion/Achievement 4_Project/Data/Prepared Data/orders_products_combined.pkl'\n",
    "\n",
    "df_merged.to_pickle(file_path)\n"
   ]
  },
  {
   "cell_type": "code",
   "execution_count": null,
   "id": "d63a1bf5-dcf4-400e-815b-a3e674c185c0",
   "metadata": {},
   "outputs": [],
   "source": []
  }
 ],
 "metadata": {
  "kernelspec": {
   "display_name": "Python 3 (ipykernel)",
   "language": "python",
   "name": "python3"
  },
  "language_info": {
   "codemirror_mode": {
    "name": "ipython",
    "version": 3
   },
   "file_extension": ".py",
   "mimetype": "text/x-python",
   "name": "python",
   "nbconvert_exporter": "python",
   "pygments_lexer": "ipython3",
   "version": "3.13.2"
  }
 },
 "nbformat": 4,
 "nbformat_minor": 5
}
