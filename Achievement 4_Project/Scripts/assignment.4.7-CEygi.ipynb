{
 "cells": [
  {
   "cell_type": "code",
   "execution_count": 1,
   "id": "979c673a-17bb-406d-82d8-8c3a5fb6d59e",
   "metadata": {},
   "outputs": [
    {
     "name": "stdout",
     "output_type": "stream",
     "text": [
      "price_label\n",
      "Mid-range product     22017652\n",
      "Low-range product      9900435\n",
      "High-range product      516972\n",
      "Name: count, dtype: int64\n"
     ]
    }
   ],
   "source": [
    "## Creating 'price_label' Column\n",
    "import pandas as pd\n",
    "\n",
    "df = pd.read_pickle('/Users/cem/Desktop/Data Immersion/Achievement 4_Project/Data/Prepared Data/ords_prods_merge.pkl')\n",
    "\n",
    "def label_price(row):\n",
    "    if row < 5:\n",
    "        return 'Low-range product'\n",
    "    elif row >= 5 and row < 15:\n",
    "        return 'Mid-range product'\n",
    "    else:\n",
    "        return 'High-range product'\n",
    "\n",
    "df['price_label'] = df['prices'].apply(label_price)\n",
    "\n",
    "print(df['price_label'].value_counts())\n"
   ]
  },
  {
   "cell_type": "code",
   "execution_count": 2,
   "id": "ee8288ee-1ad1-44c4-b362-76ff5631ac58",
   "metadata": {},
   "outputs": [
    {
     "name": "stdout",
     "output_type": "stream",
     "text": [
      "busiest_day\n",
      "Least busy day    20559300\n",
      "Busiest day       11875759\n",
      "Name: count, dtype: int64\n"
     ]
    }
   ],
   "source": [
    "## Creating 'busiest_day' Column                                         \n",
    "df['busiest_day'] = df['order_dow'].apply(lambda x: 'Busiest day' if x in [0, 1] else 'Least busy day')\n",
    "\n",
    "print(df['busiest_day'].value_counts())\n"
   ]
  },
  {
   "cell_type": "code",
   "execution_count": 3,
   "id": "64809b3f-1354-4b9d-aab9-421520feb499",
   "metadata": {},
   "outputs": [
    {
     "name": "stdout",
     "output_type": "stream",
     "text": [
      "order_dow\n",
      "0    6209808\n",
      "1    5665951\n",
      "6    4500391\n",
      "2    4217868\n",
      "5    4209603\n",
      "3    3844175\n",
      "4    3787263\n",
      "Name: count, dtype: int64\n"
     ]
    }
   ],
   "source": [
    "## Q2\n",
    "day_counts = df['order_dow'].value_counts().sort_values(ascending=False)\n",
    "print(day_counts)\n"
   ]
  },
  {
   "cell_type": "code",
   "execution_count": 4,
   "id": "8dde4412-a0c0-4960-a6fc-d7a69a13d2f4",
   "metadata": {},
   "outputs": [
    {
     "data": {
      "text/plain": [
       "day_type\n",
       "Average days    12927862\n",
       "Busiest days    11875759\n",
       "Slowest days     7631438\n",
       "Name: count, dtype: int64"
      ]
     },
     "execution_count": 4,
     "metadata": {},
     "output_type": "execute_result"
    }
   ],
   "source": [
    "# Get the 2 busiest days\n",
    "busiest_days = day_counts.head(2).index.tolist()\n",
    "\n",
    "# Get the 2 slowest days\n",
    "slowest_days = day_counts.tail(2).index.tolist()\n",
    "\n",
    "## Creating 'day_type' Column\n",
    "\n",
    "def label_day(day):\n",
    "    if day in busiest_days:\n",
    "        return 'Busiest days'\n",
    "    elif day in slowest_days:\n",
    "        return 'Slowest days'\n",
    "    else:\n",
    "        return 'Average days'\n",
    "\n",
    "df['day_type'] = df['order_dow'].apply(label_day)\n",
    "df['day_type'].value_counts()\n"
   ]
  },
  {
   "cell_type": "code",
   "execution_count": 5,
   "id": "1e58e792-5921-4c51-9b54-7dd981e938a9",
   "metadata": {},
   "outputs": [
    {
     "data": {
      "text/html": [
       "<div>\n",
       "<style scoped>\n",
       "    .dataframe tbody tr th:only-of-type {\n",
       "        vertical-align: middle;\n",
       "    }\n",
       "\n",
       "    .dataframe tbody tr th {\n",
       "        vertical-align: top;\n",
       "    }\n",
       "\n",
       "    .dataframe thead th {\n",
       "        text-align: right;\n",
       "    }\n",
       "</style>\n",
       "<table border=\"1\" class=\"dataframe\">\n",
       "  <thead>\n",
       "    <tr style=\"text-align: right;\">\n",
       "      <th>day_type</th>\n",
       "      <th>Average days</th>\n",
       "      <th>Busiest days</th>\n",
       "      <th>Slowest days</th>\n",
       "    </tr>\n",
       "    <tr>\n",
       "      <th>order_dow</th>\n",
       "      <th></th>\n",
       "      <th></th>\n",
       "      <th></th>\n",
       "    </tr>\n",
       "  </thead>\n",
       "  <tbody>\n",
       "    <tr>\n",
       "      <th>0</th>\n",
       "      <td>0</td>\n",
       "      <td>6209808</td>\n",
       "      <td>0</td>\n",
       "    </tr>\n",
       "    <tr>\n",
       "      <th>1</th>\n",
       "      <td>0</td>\n",
       "      <td>5665951</td>\n",
       "      <td>0</td>\n",
       "    </tr>\n",
       "    <tr>\n",
       "      <th>2</th>\n",
       "      <td>4217868</td>\n",
       "      <td>0</td>\n",
       "      <td>0</td>\n",
       "    </tr>\n",
       "    <tr>\n",
       "      <th>3</th>\n",
       "      <td>0</td>\n",
       "      <td>0</td>\n",
       "      <td>3844175</td>\n",
       "    </tr>\n",
       "    <tr>\n",
       "      <th>4</th>\n",
       "      <td>0</td>\n",
       "      <td>0</td>\n",
       "      <td>3787263</td>\n",
       "    </tr>\n",
       "    <tr>\n",
       "      <th>5</th>\n",
       "      <td>4209603</td>\n",
       "      <td>0</td>\n",
       "      <td>0</td>\n",
       "    </tr>\n",
       "    <tr>\n",
       "      <th>6</th>\n",
       "      <td>4500391</td>\n",
       "      <td>0</td>\n",
       "      <td>0</td>\n",
       "    </tr>\n",
       "  </tbody>\n",
       "</table>\n",
       "</div>"
      ],
      "text/plain": [
       "day_type   Average days  Busiest days  Slowest days\n",
       "order_dow                                          \n",
       "0                     0       6209808             0\n",
       "1                     0       5665951             0\n",
       "2               4217868             0             0\n",
       "3                     0             0       3844175\n",
       "4                     0             0       3787263\n",
       "5               4209603             0             0\n",
       "6               4500391             0             0"
      ]
     },
     "execution_count": 5,
     "metadata": {},
     "output_type": "execute_result"
    }
   ],
   "source": [
    "# Q3: Cross-tab to verify which days were labeled what\n",
    "pd.crosstab(df['order_dow'], df['day_type'])\n"
   ]
  },
  {
   "cell_type": "markdown",
   "id": "26389a75-1d27-4cee-ab0e-bf17e584dc25",
   "metadata": {},
   "source": [
    "## Verifying day_type Column\n",
    "\n",
    "I created the day_type column to label the top 2 busiest and bottom 2 slowest days of the week based on order volume. \n",
    "\n",
    "### Observations:\n",
    "- The column includes three categories: **Busiest days**, **Slowest days**, and **Average days**.\n",
    "- The busiest days account for ~11.9 million orders, while the slowest days account for ~7.6 million.\n",
    "- A cross-tabulation confirmed that the correct order_dow values were labeled as expected.\n",
    "- This new column helps us quickly segment order behavior by day type for further analysis or visualization.\n"
   ]
  },
  {
   "cell_type": "code",
   "execution_count": 6,
   "id": "8dce9f8c-e415-41b7-8679-60329bd2f037",
   "metadata": {},
   "outputs": [
    {
     "name": "stdout",
     "output_type": "stream",
     "text": [
      "order_hour_of_day\n",
      "10    2764476\n",
      "11    2738647\n",
      "14    2691598\n",
      "15    2664583\n",
      "13    2663346\n",
      "12    2620898\n",
      "16    2537506\n",
      "9     2456751\n",
      "17    2089510\n",
      "8     1719991\n",
      "18    1637956\n",
      "19    1259416\n",
      "20     977049\n",
      "7      891951\n",
      "21     796379\n",
      "22     634743\n",
      "23     402621\n",
      "6      290796\n",
      "0      218951\n",
      "1      115787\n",
      "5       88064\n",
      "2       69435\n",
      "4       53284\n",
      "3       51321\n",
      "Name: count, dtype: int64\n"
     ]
    }
   ],
   "source": [
    "# Q4\n",
    "\n",
    "hour_counts = df['order_hour_of_day'].value_counts().sort_values(ascending=False)\n",
    "print(hour_counts)\n"
   ]
  },
  {
   "cell_type": "code",
   "execution_count": 9,
   "id": "22396d54-ea0c-4d97-9686-38e9cc65cd74",
   "metadata": {},
   "outputs": [
    {
     "data": {
      "text/plain": [
       "busiest_period_of_day\n",
       "Average orders    18534518\n",
       "Most orders       13522650\n",
       "Fewest orders       377891\n",
       "Name: count, dtype: int64"
      ]
     },
     "execution_count": 9,
     "metadata": {},
     "output_type": "execute_result"
    }
   ],
   "source": [
    "most_orders = hour_counts.head(5).index.tolist()\n",
    "fewest_orders = hour_counts.tail(5).index.tolist()\n",
    "\n",
    "def label_hour(hour):\n",
    "    if hour in most_orders:\n",
    "        return 'Most orders'\n",
    "    elif hour in fewest_orders:\n",
    "        return 'Fewest orders'\n",
    "    else:\n",
    "        return 'Average orders'\n",
    "\n",
    "df['busiest_period_of_day'] = df['order_hour_of_day'].apply(label_hour)\n",
    "\n",
    "df['busiest_period_of_day'].value_counts()\n"
   ]
  },
  {
   "cell_type": "code",
   "execution_count": 10,
   "id": "312c942c-c6b6-46bf-8619-4398c28c0f93",
   "metadata": {},
   "outputs": [
    {
     "name": "stdout",
     "output_type": "stream",
     "text": [
      "busiest_period_of_day\n",
      "Average orders    0.57\n",
      "Most orders       0.42\n",
      "Fewest orders     0.01\n",
      "Name: proportion, dtype: float64\n"
     ]
    }
   ],
   "source": [
    "print(df['busiest_period_of_day'].value_counts(normalize=True).round(2))\n"
   ]
  },
  {
   "cell_type": "code",
   "execution_count": 11,
   "id": "76cd6670-23ac-4103-a995-3f9d23f3d64a",
   "metadata": {},
   "outputs": [
    {
     "name": "stdout",
     "output_type": "stream",
     "text": [
      "['orders_products_combined.pkl', 'orders_checked.csv', 'orders_wrangled.csv', 'df_merged.csv', 'departments_wrangled.csv', 'products_checked.csv', 'ords_prods_merge.pkl']\n"
     ]
    }
   ],
   "source": [
    "import os\n",
    "print(os.listdir('/Users/cem/Desktop/Data Immersion/Achievement 4_Project/Data/Prepared Data/'))\n"
   ]
  },
  {
   "cell_type": "code",
   "execution_count": 12,
   "id": "4bf166ac-0275-4e1b-b875-ca24a0671c21",
   "metadata": {},
   "outputs": [],
   "source": [
    "df.to_pickle('/Users/cem/Desktop/Data Immersion/Achievement 4_Project/Data/Prepared Data/ords_prods_merged_labeled.pkl')\n"
   ]
  }
 ],
 "metadata": {
  "kernelspec": {
   "display_name": "Python 3 (ipykernel)",
   "language": "python",
   "name": "python3"
  },
  "language_info": {
   "codemirror_mode": {
    "name": "ipython",
    "version": 3
   },
   "file_extension": ".py",
   "mimetype": "text/x-python",
   "name": "python",
   "nbconvert_exporter": "python",
   "pygments_lexer": "ipython3",
   "version": "3.13.2"
  }
 },
 "nbformat": 4,
 "nbformat_minor": 5
}
